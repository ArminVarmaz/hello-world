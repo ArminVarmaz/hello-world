{
  "nbformat": 4,
  "nbformat_minor": 0,
  "metadata": {
    "colab": {
      "provenance": [],
      "authorship_tag": "ABX9TyNcUCYzDf/cS4U4CSmqrX3x",
      "include_colab_link": true
    },
    "kernelspec": {
      "name": "python3",
      "display_name": "Python 3"
    },
    "language_info": {
      "name": "python"
    }
  },
  "cells": [
    {
      "cell_type": "markdown",
      "metadata": {
        "id": "view-in-github",
        "colab_type": "text"
      },
      "source": [
        "<a href=\"https://colab.research.google.com/github/ArminVarmaz/hello-world/blob/main/Daten/20230517_KI_Lehre_Forschung.ipynb\" target=\"_parent\"><img src=\"https://colab.research.google.com/assets/colab-badge.svg\" alt=\"Open In Colab\"/></a>"
      ]
    },
    {
      "cell_type": "markdown",
      "source": [
        "Beispiel für ein Python-Code, mit dem wir eine Regeressionsanalys"
      ],
      "metadata": {
        "id": "fsJoCUmov2cg"
      }
    },
    {
      "cell_type": "code",
      "execution_count": 4,
      "metadata": {
        "id": "Te-zCXH1u38D",
        "colab": {
          "base_uri": "https://localhost:8080/"
        },
        "outputId": "9b0ae834-f1bc-458c-f14c-0165e45b4834"
      },
      "outputs": [
        {
          "output_type": "stream",
          "name": "stderr",
          "text": [
            "/usr/local/lib/python3.10/dist-packages/openpyxl/worksheet/_reader.py:312: UserWarning: Unknown extension is not supported and will be removed\n",
            "  warn(msg)\n"
          ]
        }
      ],
      "source": [
        "import numpy as np\n",
        "import pandas as pd\n",
        "\n",
        "\n",
        "# Wir starten hier mit der Excel-Datei, die bereits Spaltenüberschriften hat\n",
        "url='https://github.com/ArminVarmaz/hello-world/blob/main/Daten/vote1.xlsx?raw=true'\n",
        "df = pd.read_excel(url, sheet_name='Blatt1')\n",
        "\n",
        "\n",
        "\n",
        "\n"
      ]
    },
    {
      "cell_type": "code",
      "source": [],
      "metadata": {
        "id": "2LZ5Ml9Hu6NW"
      },
      "execution_count": null,
      "outputs": []
    },
    {
      "cell_type": "markdown",
      "source": [],
      "metadata": {
        "id": "EokLGpb_u6iI"
      }
    }
  ]
}